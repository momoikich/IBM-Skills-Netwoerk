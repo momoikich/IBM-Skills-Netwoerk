{
 "cells": [
  {
   "cell_type": "markdown",
   "metadata": {},
   "source": [
    "<p style=\"text-align:center\">\n",
    "    <a href=\"https://skills.network/?utm_medium=Exinfluencer&utm_source=Exinfluencer&utm_content=000026UJ&utm_term=10006555&utm_id=NA-SkillsNetwork-Channel-SkillsNetworkGuidedProjectsIBMGPXX068IEN1371-2022-01-01\" target=\"_blank\">\n",
    "    <img src=\"https://cf-courses-data.s3.us.cloud-object-storage.appdomain.cloud/assets/logos/SN_web_lightmode.png\" width=\"200\" alt=\"Skills Network Logo\"  />\n",
    "    </a>\n",
    "</p>\n"
   ]
  },
  {
   "cell_type": "markdown",
   "metadata": {},
   "source": [
    "# **Perfume Recommendation with Sentence-BERT**\n"
   ]
  },
  {
   "cell_type": "markdown",
   "metadata": {},
   "source": [
    "Estimated time needed: **45** minutes\n"
   ]
  },
  {
   "cell_type": "markdown",
   "metadata": {},
   "source": [
    "A fragrance retailer recently wants to boost its online sales by deploying a recommender system on its website. You are a Data Scientist working for the company and you are asked to design this system where a customer will be recommended 6 perfumes that have similar notes to his/her most recent perfume searched. What you have in hand is a text file that contains the notes of all the perfumes that the retailer carries from its primary perfumer. It's time to start building the perfume recommendation system!\n",
    "\n",
    "In this guided project, you will first learn about Sentence-BERT for transforming the notes of the perfumes into semantically meaningful sentence embeddings that can be compared in terms of similarity metrics such as the cosine-similarity. Then you will use the embeddings to build a recommender system that outputs similar types of perfumes, as per the requirements of your manager at the fragrance retail company! \n"
   ]
  },
  {
   "cell_type": "markdown",
   "metadata": {},
   "source": [
    "<center><img src=\"https://cf-courses-data.s3.us.cloud-object-storage.appdomain.cloud/IBM-GPXX068IEN/images/IMG_9448.jpeg\" width=\"60%\"><center>\n"
   ]
  },
  {
   "cell_type": "markdown",
   "metadata": {},
   "source": [
    "<p style=\"color:gray; text-align:center;\">Image credits to <a href=\"https://www.keepitrepatation.xyz/products.aspx?cname=all+tom+ford+fragrances&cid=137\">this e-commerce website</a></p>\n"
   ]
  },
  {
   "cell_type": "markdown",
   "metadata": {},
   "source": [
    "## __Table of Contents__\n",
    "\n",
    "<ol>\n",
    "    <li><a href=\"#Objectives\">Objectives</a></li>\n",
    "    <li>\n",
    "        <a href=\"#Setup\">Setup</a>\n",
    "        <ol>\n",
    "            <li><a href=\"#Installing-Required-Libraries\">Installing Required Libraries</a></li>\n",
    "            <li><a href=\"#Importing-Required-Libraries\">Importing Required Libraries</a></li>\n",
    "            <li><a href=\"#Defining-Helper-Functions\">Defining Helper Functions</a></li>\n",
    "        </ol>\n",
    "    </li>   \n",
    "    <li><a href=\"#Background on Sentence-BERT\">Background on Sentence-BERT</a></li>\n",
    "    <li><a href=\"#SBERT for Sentence Embedding\">SBERT for Sentence Embedding</a></li>\n",
    "    <li><a href=\"#SBERT for Analyzing Semantic Textual Similarity (STS)\"> SBERT for Analyzing Semantic Textual Similarity (STS)</a></li>\n",
    "    <li><a href=\"#Use Case of SBERT Embeddings - Perfume Recommendation\"> Use Case of SBERT Embeddings - Perfume Recommendation</a>  \n",
    "        <ol>\n",
    "            <li><a href=\"#Preparing the Dataset\">Preparing the Dataset</a></li>\n",
    "            <li><a href=\"#Creating Perfume Notes Embeddings\">Creating Perfume Notes Embeddings</a></li>\n",
    "            <li><a href=\"#Recommending Perfumes using Cosine Similarity\">Recommending Perfumes using Cosine Similarity</a></li>            \n",
    "        </ol>\n",
    "    </li>  \n",
    "    <li><a href=\"#Exercise: Getting Your Own Perfume Suggestions\">Exercise: Getting Your Own Perfume Suggestions</a>  \n",
    "        <ol>\n",
    "            <li><a href=\"#Exercise 1: Create perfume embeddings\">Exercise 1: Create perfume embeddings</a></li>\n",
    "            <li><a href=\"#Exercise 2: Produce cosine similarity scores\">Exercise 2: Produce cosine similarity scores</a></li>\n",
    "            <li><a href=\"#Exercise 3: Sort the perfume similarity scores\">Exercise 3: Sort the perfume similarity scores</a></li>            \n",
    "        </ol>\n",
    "    </li>  \n",
    "    <li><a href=\"#Background on BERT (optional)\">Background on BERT (optional)</a>  \n",
    "        <ol>\n",
    "            <li><a href=\"#What is BERT?\">What is BERT?</a></li>\n",
    "            <li><a href=\"#What does BERT do?\">What does BERT do?</a></li>\n",
    "            <li><a href=\"#How does BERT work?\">How does BERT work?</a></li>            \n",
    "        </ol>\n",
    "    </li>\n",
    "</ol>\n"
   ]
  },
  {
   "cell_type": "markdown",
   "metadata": {},
   "source": [
    "## Objectives\n",
    "\n",
    "After completing this lab you will be able to:\n",
    "\n",
    "- **Describe** the working mechanics of Sentence-BERT.\n",
    "- **Compute** sentence embeddings using Python's sentence-transformers framework.\n",
    "- **Perform** Semantic Textual Similarity (STS) analysis on sentence embeddings.\n",
    "- **Build** a perfume recommender system.\n"
   ]
  },
  {
   "cell_type": "markdown",
   "metadata": {},
   "source": [
    "----\n"
   ]
  },
  {
   "cell_type": "markdown",
   "metadata": {},
   "source": [
    "## Setup\n"
   ]
  },
  {
   "cell_type": "markdown",
   "metadata": {},
   "source": [
    "For this lab, we will be using the following libraries:\n",
    "\n",
    "*   [`pandas`](https://pandas.pydata.org/?utm_medium=Exinfluencer&utm_source=Exinfluencer&utm_content=000026UJ&utm_term=10006555&utm_id=NA-SkillsNetwork-Channel-SkillsNetworkCoursesIBMML0187ENSkillsNetwork31430127-2021-01-01) for managing the data.\n",
    "*   [`numpy`](https://numpy.org/?utm_medium=Exinfluencer&utm_source=Exinfluencer&utm_content=000026UJ&utm_term=10006555&utm_id=NA-SkillsNetwork-Channel-SkillsNetworkCoursesIBMML0187ENSkillsNetwork31430127-2021-01-01) for mathematical operations.\n",
    "*   [`sklearn`](https://scikit-learn.org/stable/?utm_medium=Exinfluencer&utm_source=Exinfluencer&utm_content=000026UJ&utm_term=10006555&utm_id=NA-SkillsNetwork-Channel-SkillsNetworkCoursesIBMML0187ENSkillsNetwork31430127-2021-01-01) for machine learning and machine-learning-pipeline related functions.\n",
    "*   [`seaborn`](https://seaborn.pydata.org/?utm_medium=Exinfluencer&utm_source=Exinfluencer&utm_content=000026UJ&utm_term=10006555&utm_id=NA-SkillsNetwork-Channel-SkillsNetworkCoursesIBMML0187ENSkillsNetwork31430127-2021-01-01) for visualizing the data.\n",
    "*   [`matplotlib`](https://matplotlib.org/?utm_medium=Exinfluencer&utm_source=Exinfluencer&utm_content=000026UJ&utm_term=10006555&utm_id=NA-SkillsNetwork-Channel-SkillsNetworkCoursesIBMML0187ENSkillsNetwork31430127-2021-01-01) for additional plotting tools.\n"
   ]
  },
  {
   "cell_type": "markdown",
   "metadata": {},
   "source": [
    "### Installing Required Libraries\n",
    "\n",
    "The following required libraries are pre-installed in the Skills Network Labs environment. However, if you run this notebook commands in a different Jupyter environment (e.g. Watson Studio or Ananconda), you will need to install these libraries by removing the `#` sign before `!mamba` in the code cell below.\n"
   ]
  },
  {
   "cell_type": "code",
   "execution_count": 1,
   "metadata": {},
   "outputs": [],
   "source": [
    "# All Libraries required for this lab are listed below. The libraries pre-installed on Skills Network Labs are commented.\n",
    "# !mamba install -qy pandas==1.3.4 numpy==1.21.4 seaborn==0.9.0 matplotlib==3.5.0 scikit-learn==0.20.1\n",
    "# Note: If your environment doesn't support \"!mamba install\", use \"!pip install\""
   ]
  },
  {
   "cell_type": "markdown",
   "metadata": {},
   "source": [
    "The `sentence-transformers` library is __not__ pre-installed in the Skills Network Labs environment. __You will need to run the following cell__ to install it for computing sentence embeddings in this project.\n"
   ]
  },
  {
   "cell_type": "code",
   "execution_count": 1,
   "metadata": {},
   "outputs": [
    {
     "name": "stdout",
     "output_type": "stream",
     "text": [
      "Collecting sentence-transformers\n",
      "  Downloading sentence-transformers-2.2.2.tar.gz (85 kB)\n",
      "\u001b[2K     \u001b[90m━━━━━━━━━━━━━━━━━━━━━━━━━━━━━━━━━━━━━━━━\u001b[0m \u001b[32m86.0/86.0 kB\u001b[0m \u001b[31m6.9 MB/s\u001b[0m eta \u001b[36m0:00:00\u001b[0m\n",
      "\u001b[?25h  Preparing metadata (setup.py) ... \u001b[?25ldone\n",
      "\u001b[?25hCollecting transformers<5.0.0,>=4.6.0\n",
      "  Downloading transformers-4.25.1-py3-none-any.whl (5.8 MB)\n",
      "\u001b[2K     \u001b[90m━━━━━━━━━━━━━━━━━━━━━━━━━━━━━━━━━━━━━━━━\u001b[0m \u001b[32m5.8/5.8 MB\u001b[0m \u001b[31m42.5 MB/s\u001b[0m eta \u001b[36m0:00:00\u001b[0m00:01\u001b[0m00:01\u001b[0m\n",
      "\u001b[?25hRequirement already satisfied: tqdm in /home/jupyterlab/conda/envs/python/lib/python3.7/site-packages (from sentence-transformers) (4.60.0)\n",
      "Collecting torch>=1.6.0\n",
      "  Downloading torch-1.13.0-cp37-cp37m-manylinux1_x86_64.whl (890.2 MB)\n",
      "\u001b[2K     \u001b[90m━━━━━━━━━━━━━━━━━━━━━━━━━━━━━━━━━━━━━\u001b[0m \u001b[32m890.2/890.2 MB\u001b[0m \u001b[31m457.1 kB/s\u001b[0m eta \u001b[36m0:00:00\u001b[0m00:01\u001b[0m00:01\u001b[0m\n",
      "\u001b[?25hRequirement already satisfied: torchvision in /home/jupyterlab/conda/envs/python/lib/python3.7/site-packages (from sentence-transformers) (0.2.1)\n",
      "Requirement already satisfied: numpy in /home/jupyterlab/conda/envs/python/lib/python3.7/site-packages (from sentence-transformers) (1.21.6)\n",
      "Requirement already satisfied: scikit-learn in /home/jupyterlab/conda/envs/python/lib/python3.7/site-packages (from sentence-transformers) (0.20.1)\n",
      "Requirement already satisfied: scipy in /home/jupyterlab/conda/envs/python/lib/python3.7/site-packages (from sentence-transformers) (1.7.3)\n",
      "Collecting nltk\n",
      "  Downloading nltk-3.7-py3-none-any.whl (1.5 MB)\n",
      "\u001b[2K     \u001b[90m━━━━━━━━━━━━━━━━━━━━━━━━━━━━━━━━━━━━━━━━\u001b[0m \u001b[32m1.5/1.5 MB\u001b[0m \u001b[31m40.4 MB/s\u001b[0m eta \u001b[36m0:00:00\u001b[0m00:01\u001b[0m\n",
      "\u001b[?25hCollecting sentencepiece\n",
      "  Downloading sentencepiece-0.1.97-cp37-cp37m-manylinux_2_17_x86_64.manylinux2014_x86_64.whl (1.3 MB)\n",
      "\u001b[2K     \u001b[90m━━━━━━━━━━━━━━━━━━━━━━━━━━━━━━━━━━━━━━━━\u001b[0m \u001b[32m1.3/1.3 MB\u001b[0m \u001b[31m33.9 MB/s\u001b[0m eta \u001b[36m0:00:00\u001b[0m00:01\u001b[0m\n",
      "\u001b[?25hCollecting huggingface-hub>=0.4.0\n",
      "  Downloading huggingface_hub-0.11.1-py3-none-any.whl (182 kB)\n",
      "\u001b[2K     \u001b[90m━━━━━━━━━━━━━━━━━━━━━━━━━━━━━━━━━━━━━━\u001b[0m \u001b[32m182.4/182.4 kB\u001b[0m \u001b[31m21.9 MB/s\u001b[0m eta \u001b[36m0:00:00\u001b[0m\n",
      "\u001b[?25hRequirement already satisfied: pyyaml>=5.1 in /home/jupyterlab/conda/envs/python/lib/python3.7/site-packages (from huggingface-hub>=0.4.0->sentence-transformers) (6.0)\n",
      "Requirement already satisfied: typing-extensions>=3.7.4.3 in /home/jupyterlab/conda/envs/python/lib/python3.7/site-packages (from huggingface-hub>=0.4.0->sentence-transformers) (4.4.0)\n",
      "Collecting filelock\n",
      "  Downloading filelock-3.8.2-py3-none-any.whl (10 kB)\n",
      "Requirement already satisfied: requests in /home/jupyterlab/conda/envs/python/lib/python3.7/site-packages (from huggingface-hub>=0.4.0->sentence-transformers) (2.28.1)\n",
      "Requirement already satisfied: packaging>=20.9 in /home/jupyterlab/conda/envs/python/lib/python3.7/site-packages (from huggingface-hub>=0.4.0->sentence-transformers) (21.3)\n",
      "Requirement already satisfied: importlib-metadata in /home/jupyterlab/conda/envs/python/lib/python3.7/site-packages (from huggingface-hub>=0.4.0->sentence-transformers) (4.11.4)\n",
      "Collecting nvidia-cublas-cu11==11.10.3.66\n",
      "  Downloading nvidia_cublas_cu11-11.10.3.66-py3-none-manylinux1_x86_64.whl (317.1 MB)\n",
      "\u001b[2K     \u001b[90m━━━━━━━━━━━━━━━━━━━━━━━━━━━━━━━━━━━━━━━\u001b[0m \u001b[32m317.1/317.1 MB\u001b[0m \u001b[31m1.5 MB/s\u001b[0m eta \u001b[36m0:00:00\u001b[0m00:01\u001b[0m00:01\u001b[0m\n",
      "\u001b[?25hCollecting nvidia-cudnn-cu11==8.5.0.96\n",
      "  Downloading nvidia_cudnn_cu11-8.5.0.96-2-py3-none-manylinux1_x86_64.whl (557.1 MB)\n",
      "\u001b[2K     \u001b[90m━━━━━━━━━━━━━━━━━━━━━━━━━━━━━━━━━━━━━\u001b[0m \u001b[32m557.1/557.1 MB\u001b[0m \u001b[31m685.4 kB/s\u001b[0m eta \u001b[36m0:00:00\u001b[0m00:01\u001b[0m00:01\u001b[0m\n",
      "\u001b[?25hCollecting nvidia-cuda-runtime-cu11==11.7.99\n",
      "  Downloading nvidia_cuda_runtime_cu11-11.7.99-py3-none-manylinux1_x86_64.whl (849 kB)\n",
      "\u001b[2K     \u001b[90m━━━━━━━━━━━━━━━━━━━━━━━━━━━━━━━━━━━━━\u001b[0m \u001b[32m849.3/849.3 kB\u001b[0m \u001b[31m979.8 kB/s\u001b[0m eta \u001b[36m0:00:00\u001b[0m00:01\u001b[0m\n",
      "\u001b[?25hCollecting nvidia-cuda-nvrtc-cu11==11.7.99\n",
      "  Downloading nvidia_cuda_nvrtc_cu11-11.7.99-2-py3-none-manylinux1_x86_64.whl (21.0 MB)\n",
      "\u001b[2K     \u001b[90m━━━━━━━━━━━━━━━━━━━━━━━━━━━━━━━━━━━━━━━━\u001b[0m \u001b[32m21.0/21.0 MB\u001b[0m \u001b[31m8.5 MB/s\u001b[0m eta \u001b[36m0:00:00\u001b[0m:00:01\u001b[0m00:01\u001b[0m\n",
      "\u001b[?25hRequirement already satisfied: wheel in /home/jupyterlab/conda/envs/python/lib/python3.7/site-packages (from nvidia-cublas-cu11==11.10.3.66->torch>=1.6.0->sentence-transformers) (0.38.4)\n",
      "Requirement already satisfied: setuptools in /home/jupyterlab/conda/envs/python/lib/python3.7/site-packages (from nvidia-cublas-cu11==11.10.3.66->torch>=1.6.0->sentence-transformers) (65.5.1)\n",
      "Collecting regex!=2019.12.17\n",
      "  Downloading regex-2022.10.31-cp37-cp37m-manylinux_2_17_x86_64.manylinux2014_x86_64.whl (757 kB)\n",
      "\u001b[2K     \u001b[90m━━━━━━━━━━━━━━━━━━━━━━━━━━━━━━━━━━━━━━\u001b[0m \u001b[32m757.1/757.1 kB\u001b[0m \u001b[31m35.5 MB/s\u001b[0m eta \u001b[36m0:00:00\u001b[0m\n",
      "\u001b[?25hCollecting tokenizers!=0.11.3,<0.14,>=0.11.1\n",
      "  Downloading tokenizers-0.13.2-cp37-cp37m-manylinux_2_17_x86_64.manylinux2014_x86_64.whl (7.6 MB)\n",
      "\u001b[2K     \u001b[90m━━━━━━━━━━━━━━━━━━━━━━━━━━━━━━━━━━━━━━━━\u001b[0m \u001b[32m7.6/7.6 MB\u001b[0m \u001b[31m44.0 MB/s\u001b[0m eta \u001b[36m0:00:00\u001b[0m00:01\u001b[0m00:01\u001b[0m\n",
      "\u001b[?25hCollecting joblib\n",
      "  Downloading joblib-1.2.0-py3-none-any.whl (297 kB)\n",
      "\u001b[2K     \u001b[90m━━━━━━━━━━━━━━━━━━━━━━━━━━━━━━━━━━━━━━\u001b[0m \u001b[32m298.0/298.0 kB\u001b[0m \u001b[31m24.1 MB/s\u001b[0m eta \u001b[36m0:00:00\u001b[0m\n",
      "\u001b[?25hRequirement already satisfied: click in /home/jupyterlab/conda/envs/python/lib/python3.7/site-packages (from nltk->sentence-transformers) (8.1.3)\n",
      "Requirement already satisfied: six in /home/jupyterlab/conda/envs/python/lib/python3.7/site-packages (from torchvision->sentence-transformers) (1.16.0)\n",
      "Requirement already satisfied: pillow>=4.1.1 in /home/jupyterlab/conda/envs/python/lib/python3.7/site-packages (from torchvision->sentence-transformers) (8.1.0)\n",
      "Requirement already satisfied: pyparsing!=3.0.5,>=2.0.2 in /home/jupyterlab/conda/envs/python/lib/python3.7/site-packages (from packaging>=20.9->huggingface-hub>=0.4.0->sentence-transformers) (3.0.9)\n",
      "Requirement already satisfied: zipp>=0.5 in /home/jupyterlab/conda/envs/python/lib/python3.7/site-packages (from importlib-metadata->huggingface-hub>=0.4.0->sentence-transformers) (3.11.0)\n",
      "Requirement already satisfied: charset-normalizer<3,>=2 in /home/jupyterlab/conda/envs/python/lib/python3.7/site-packages (from requests->huggingface-hub>=0.4.0->sentence-transformers) (2.1.1)\n",
      "Requirement already satisfied: certifi>=2017.4.17 in /home/jupyterlab/conda/envs/python/lib/python3.7/site-packages (from requests->huggingface-hub>=0.4.0->sentence-transformers) (2022.9.24)\n",
      "Requirement already satisfied: urllib3<1.27,>=1.21.1 in /home/jupyterlab/conda/envs/python/lib/python3.7/site-packages (from requests->huggingface-hub>=0.4.0->sentence-transformers) (1.26.13)\n",
      "Requirement already satisfied: idna<4,>=2.5 in /home/jupyterlab/conda/envs/python/lib/python3.7/site-packages (from requests->huggingface-hub>=0.4.0->sentence-transformers) (3.4)\n",
      "Building wheels for collected packages: sentence-transformers\n",
      "  Building wheel for sentence-transformers (setup.py) ... \u001b[?25ldone\n",
      "\u001b[?25h  Created wheel for sentence-transformers: filename=sentence_transformers-2.2.2-py3-none-any.whl size=125925 sha256=5e81b49343e73b12a9804d7c91128348b2e50e604145b209648069078de1de83\n",
      "  Stored in directory: /home/jupyterlab/.cache/pip/wheels/83/71/2b/40d17d21937fed496fb99145227eca8f20b4891240ff60c86f\n",
      "Successfully built sentence-transformers\n",
      "Installing collected packages: tokenizers, sentencepiece, regex, nvidia-cuda-runtime-cu11, nvidia-cuda-nvrtc-cu11, nvidia-cublas-cu11, joblib, filelock, nvidia-cudnn-cu11, huggingface-hub, transformers, torch, nltk, sentence-transformers\n",
      "  Attempting uninstall: torch\n",
      "    Found existing installation: torch 1.5.0\n",
      "    Uninstalling torch-1.5.0:\n",
      "      Successfully uninstalled torch-1.5.0\n",
      "Successfully installed filelock-3.8.2 huggingface-hub-0.11.1 joblib-1.2.0 nltk-3.7 nvidia-cublas-cu11-11.10.3.66 nvidia-cuda-nvrtc-cu11-11.7.99 nvidia-cuda-runtime-cu11-11.7.99 nvidia-cudnn-cu11-8.5.0.96 regex-2022.10.31 sentence-transformers-2.2.2 sentencepiece-0.1.97 tokenizers-0.13.2 torch-1.13.0 transformers-4.25.1\n",
      "Collecting scikit-learn==0.23.1\n",
      "  Downloading scikit_learn-0.23.1-cp37-cp37m-manylinux1_x86_64.whl (6.8 MB)\n",
      "\u001b[2K     \u001b[90m━━━━━━━━━━━━━━━━━━━━━━━━━━━━━━━━━━━━━━━━\u001b[0m \u001b[32m6.8/6.8 MB\u001b[0m \u001b[31m47.2 MB/s\u001b[0m eta \u001b[36m0:00:00\u001b[0m00:01\u001b[0m00:01\u001b[0m\n",
      "\u001b[?25hRequirement already satisfied: scipy>=0.19.1 in /home/jupyterlab/conda/envs/python/lib/python3.7/site-packages (from scikit-learn==0.23.1) (1.7.3)\n",
      "Requirement already satisfied: joblib>=0.11 in /home/jupyterlab/conda/envs/python/lib/python3.7/site-packages (from scikit-learn==0.23.1) (1.2.0)\n",
      "Requirement already satisfied: numpy>=1.13.3 in /home/jupyterlab/conda/envs/python/lib/python3.7/site-packages (from scikit-learn==0.23.1) (1.21.6)\n",
      "Collecting threadpoolctl>=2.0.0\n",
      "  Downloading threadpoolctl-3.1.0-py3-none-any.whl (14 kB)\n",
      "Installing collected packages: threadpoolctl, scikit-learn\n",
      "  Attempting uninstall: scikit-learn\n",
      "    Found existing installation: scikit-learn 0.20.1\n",
      "    Uninstalling scikit-learn-0.20.1:\n",
      "      Successfully uninstalled scikit-learn-0.20.1\n",
      "Successfully installed scikit-learn-0.23.1 threadpoolctl-3.1.0\n"
     ]
    }
   ],
   "source": [
    "!pip install -U sentence-transformers\n",
    "!pip install scikit-learn==0.23.1  "
   ]
  },
  {
   "cell_type": "markdown",
   "metadata": {},
   "source": [
    "### Importing Required Libraries\n",
    "\n",
    "_We recommend you import all required libraries in one place (here):_\n"
   ]
  },
  {
   "cell_type": "code",
   "execution_count": 3,
   "metadata": {},
   "outputs": [],
   "source": [
    "import warnings\n",
    "warnings.filterwarnings('ignore')\n",
    "\n",
    "import numpy as np\n",
    "from numpy.linalg import norm\n",
    "import pandas as pd\n",
    "import matplotlib.pyplot as plt\n",
    "import seaborn as sns\n",
    "%matplotlib inline\n",
    "\n",
    "from sklearn.decomposition import PCA\n",
    "from sentence_transformers import SentenceTransformer\n",
    "from sentence_transformers import util\n",
    "\n",
    "\n",
    "import skillsnetwork\n",
    "\n",
    "sns.set_context('notebook')\n",
    "sns.set_style('white')"
   ]
  },
  {
   "cell_type": "markdown",
   "metadata": {},
   "source": [
    "### Defining Helper Functions\n"
   ]
  },
  {
   "cell_type": "code",
   "execution_count": 4,
   "metadata": {},
   "outputs": [],
   "source": [
    "# This function will allow us to easily plot data taking in x values, y values, and a title\n",
    "def plotter(x, y, title):\n",
    "    plt.plot(x, y)\n",
    "    plt.xlabel('X')\n",
    "    plt.ylabel('Y')\n",
    "    plt.title(title)\n",
    "    plt.show()"
   ]
  },
  {
   "cell_type": "markdown",
   "metadata": {},
   "source": [
    "## Background on Sentence-BERT\n"
   ]
  },
  {
   "cell_type": "markdown",
   "metadata": {},
   "source": [
    "Sentence-BERT is a modification of the BERT framework for enabling **large-scale semantic similarity comparison, clustering, and information retrieval.** \n",
    "\n",
    "<p style=\"color:blue\">If you don't know what BERT is or need a memory refresh, please scroll down to section: Background on BERT (optional).</p>\n"
   ]
  },
  {
   "cell_type": "markdown",
   "metadata": {},
   "source": [
    "Sentence-BERT, or **SBERT**, uses siamese and triplet network structures to derive semantically meaningful sentence embeddings that can be compared using cosine-similarity. A siamese network consists of two or more identical subnetworks, where the two subnetworks share the same weights. Weights updating is mirrored across the subnetworks during training. The following is a diagram of the SBERT architecture with classification objective function:\n",
    "\n",
    "<center><img src=\"https://cf-courses-data.s3.us.cloud-object-storage.appdomain.cloud/IBM-GPXX068IEN/images/SBERT.png\" width=\"40%\"></center>\n",
    "\n",
    "<p style=\"color:gray; text-align:center;\">Image credits to <a href=\"https://arxiv.org/abs/1908.10084?utm_medium=Exinfluencer&utm_source=Exinfluencer&utm_content=000026UJ&utm_term=10006555&utm_id=NA-SkillsNetwork-Channel-SkillsNetworkGuidedProjectsIBMGPXX068IEN1371-2022-01-01\">Nils Reimers and Iryna Gurevych</a></p>\n"
   ]
  },
  {
   "cell_type": "markdown",
   "metadata": {},
   "source": [
    "It's apparent that SBERT uses two \"twin\" BERT models and adds a pooling operation to the outputs of the two BERT models. The pooling layers create the fixed-size sentence embeddings for the input sentences.\n",
    "\n",
    "Sentence embeddings are a well-studied area with dozens of proposed methods. Previous sentence embedding methods such as InferSent and Universal Sentence Encoder train from random initializations. The authors of [Sentence-BERT: Sentence Embeddings using Siamese BERT-Networks](https://arxiv.org/abs/1908.10084?utm_medium=Exinfluencer&utm_source=Exinfluencer&utm_content=000026UJ&utm_term=10006555&utm_id=NA-SkillsNetwork-Channel-SkillsNetworkGuidedProjectsIBMGPXX068IEN1371-2022-01-01) uses the pre-trained BERT and RoBERTa network and fine-tunes it to yield sentence embeddings, which significantly reduced the training time (SBERT can be tuned in less than 20 mins) while yielding better results than comparable sentence embedding methods.\n"
   ]
  },
  {
   "cell_type": "markdown",
   "metadata": {},
   "source": [
    "## SBERT for Sentence Embedding\n"
   ]
  },
  {
   "cell_type": "markdown",
   "metadata": {},
   "source": [
    "SBERT has a Python library called [sentence_transformers](https://www.sbert.net/?utm_medium=Exinfluencer&utm_source=Exinfluencer&utm_content=000026UJ&utm_term=10006555&utm_id=NA-SkillsNetwork-Channel-SkillsNetworkGuidedProjectsIBMGPXX068IEN1371-2022-01-01#:~:text=SentenceTransformers%20is%20a%20Python%20framework,for%20more%20than%20100%20languages) which you can use to compute sentence embeddings for more than 100 languages. These embeddings can then be compared e.g. with cosine-similarity to find sentences with a similar meaning. This can be useful for semantic textual similar, semantic search, or paraphrase mining.\n"
   ]
  },
  {
   "cell_type": "markdown",
   "metadata": {},
   "source": [
    "You should already have sentence_transformers installed in the **Installing Required Libraries** section. Let's create a list of sentences.\n"
   ]
  },
  {
   "cell_type": "code",
   "execution_count": 5,
   "metadata": {},
   "outputs": [],
   "source": [
    "sentences = ['This framework generates embeddings for each input sentence',\n",
    "            'Sentences are passed as a list of string.',\n",
    "            'The quick brown fox jumps over the lazy dog.']"
   ]
  },
  {
   "cell_type": "markdown",
   "metadata": {},
   "source": [
    "The library offers a large collection of [pre-trained models](https://www.sbert.net/docs/pretrained_models.html?utm_medium=Exinfluencer&utm_source=Exinfluencer&utm_content=000026UJ&utm_term=10006555&utm_id=NA-SkillsNetwork-Channel-SkillsNetworkGuidedProjectsIBMGPXX068IEN1371-2022-01-01) for various tasks. For example, the `all-mpnet-base-v2` model provides the best quality, while `all-MiniLM-L6-v2` is 5 times faster and still offers good quality. Let's download the `all-MiniLM-L6-v2` model.\n"
   ]
  },
  {
   "cell_type": "code",
   "execution_count": 6,
   "metadata": {},
   "outputs": [
    {
     "data": {
      "application/vnd.jupyter.widget-view+json": {
       "model_id": "f29db80f086544c59aaac9aae69619f7",
       "version_major": 2,
       "version_minor": 0
      },
      "text/plain": [
       "Downloading:   0%|          | 0.00/1.18k [00:00<?, ?B/s]"
      ]
     },
     "metadata": {},
     "output_type": "display_data"
    },
    {
     "data": {
      "application/vnd.jupyter.widget-view+json": {
       "model_id": "e4f60fecb6044bf2985e64b781c52b8f",
       "version_major": 2,
       "version_minor": 0
      },
      "text/plain": [
       "Downloading:   0%|          | 0.00/190 [00:00<?, ?B/s]"
      ]
     },
     "metadata": {},
     "output_type": "display_data"
    },
    {
     "data": {
      "application/vnd.jupyter.widget-view+json": {
       "model_id": "a3ff895f6b354841a95f960ba3b1d242",
       "version_major": 2,
       "version_minor": 0
      },
      "text/plain": [
       "Downloading:   0%|          | 0.00/10.6k [00:00<?, ?B/s]"
      ]
     },
     "metadata": {},
     "output_type": "display_data"
    },
    {
     "data": {
      "application/vnd.jupyter.widget-view+json": {
       "model_id": "f0535acc6db745acab9d67a425434902",
       "version_major": 2,
       "version_minor": 0
      },
      "text/plain": [
       "Downloading:   0%|          | 0.00/612 [00:00<?, ?B/s]"
      ]
     },
     "metadata": {},
     "output_type": "display_data"
    },
    {
     "data": {
      "application/vnd.jupyter.widget-view+json": {
       "model_id": "f90d4ed7e6974a889b6f202e398e2c73",
       "version_major": 2,
       "version_minor": 0
      },
      "text/plain": [
       "Downloading:   0%|          | 0.00/116 [00:00<?, ?B/s]"
      ]
     },
     "metadata": {},
     "output_type": "display_data"
    },
    {
     "data": {
      "application/vnd.jupyter.widget-view+json": {
       "model_id": "71a0b53f900d4cc3a3787b7825d44c2e",
       "version_major": 2,
       "version_minor": 0
      },
      "text/plain": [
       "Downloading:   0%|          | 0.00/39.3k [00:00<?, ?B/s]"
      ]
     },
     "metadata": {},
     "output_type": "display_data"
    },
    {
     "data": {
      "application/vnd.jupyter.widget-view+json": {
       "model_id": "6aad9a86dc614096b21637539bd7777e",
       "version_major": 2,
       "version_minor": 0
      },
      "text/plain": [
       "Downloading:   0%|          | 0.00/90.9M [00:00<?, ?B/s]"
      ]
     },
     "metadata": {},
     "output_type": "display_data"
    },
    {
     "data": {
      "application/vnd.jupyter.widget-view+json": {
       "model_id": "c88bf88bdbc54fd4b07108c1c79a0841",
       "version_major": 2,
       "version_minor": 0
      },
      "text/plain": [
       "Downloading:   0%|          | 0.00/53.0 [00:00<?, ?B/s]"
      ]
     },
     "metadata": {},
     "output_type": "display_data"
    },
    {
     "data": {
      "application/vnd.jupyter.widget-view+json": {
       "model_id": "ccc75512b0b94284bc96f50c562d0733",
       "version_major": 2,
       "version_minor": 0
      },
      "text/plain": [
       "Downloading:   0%|          | 0.00/112 [00:00<?, ?B/s]"
      ]
     },
     "metadata": {},
     "output_type": "display_data"
    },
    {
     "data": {
      "application/vnd.jupyter.widget-view+json": {
       "model_id": "865a5294fbd64fedbb73e42ea0d43219",
       "version_major": 2,
       "version_minor": 0
      },
      "text/plain": [
       "Downloading:   0%|          | 0.00/466k [00:00<?, ?B/s]"
      ]
     },
     "metadata": {},
     "output_type": "display_data"
    },
    {
     "data": {
      "application/vnd.jupyter.widget-view+json": {
       "model_id": "c13f9e8b790b4658b3e4dd8c4c81e1d4",
       "version_major": 2,
       "version_minor": 0
      },
      "text/plain": [
       "Downloading:   0%|          | 0.00/350 [00:00<?, ?B/s]"
      ]
     },
     "metadata": {},
     "output_type": "display_data"
    },
    {
     "data": {
      "application/vnd.jupyter.widget-view+json": {
       "model_id": "9aee54ca95d94b6cb96c123c6caacf6f",
       "version_major": 2,
       "version_minor": 0
      },
      "text/plain": [
       "Downloading:   0%|          | 0.00/13.2k [00:00<?, ?B/s]"
      ]
     },
     "metadata": {},
     "output_type": "display_data"
    },
    {
     "data": {
      "application/vnd.jupyter.widget-view+json": {
       "model_id": "6e73377ee70d4413a87d006190b7c977",
       "version_major": 2,
       "version_minor": 0
      },
      "text/plain": [
       "Downloading:   0%|          | 0.00/232k [00:00<?, ?B/s]"
      ]
     },
     "metadata": {},
     "output_type": "display_data"
    },
    {
     "data": {
      "application/vnd.jupyter.widget-view+json": {
       "model_id": "72121348e4aa41a49ceb2a2da1ca1d37",
       "version_major": 2,
       "version_minor": 0
      },
      "text/plain": [
       "Downloading:   0%|          | 0.00/349 [00:00<?, ?B/s]"
      ]
     },
     "metadata": {},
     "output_type": "display_data"
    }
   ],
   "source": [
    "model = SentenceTransformer('all-MiniLM-L6-v2')"
   ]
  },
  {
   "cell_type": "markdown",
   "metadata": {},
   "source": [
    "The `.encode` method of the model computes the embeddings of the sentences we pass in. The embeddings returned could be numpy arrays or tensors of **length 384**.\n"
   ]
  },
  {
   "cell_type": "code",
   "execution_count": 7,
   "metadata": {},
   "outputs": [
    {
     "data": {
      "text/plain": [
       "(3, 384)"
      ]
     },
     "execution_count": 7,
     "metadata": {},
     "output_type": "execute_result"
    }
   ],
   "source": [
    "embeddings = model.encode(sentences, convert_to_numpy=True) # By default, convert_to_numpy = True\n",
    "embeddings.shape"
   ]
  },
  {
   "cell_type": "markdown",
   "metadata": {},
   "source": [
    "We can examine the first 50 values in the embedding vector of the first sentence:\n"
   ]
  },
  {
   "cell_type": "code",
   "execution_count": 8,
   "metadata": {},
   "outputs": [
    {
     "data": {
      "text/plain": [
       "array([-0.01371732, -0.04285153, -0.01562866,  0.01405377,  0.0395538 ,\n",
       "        0.12179635,  0.02943332, -0.03175239,  0.03549593, -0.079314  ,\n",
       "        0.01758783, -0.04043693,  0.04972597,  0.02549126, -0.07187007,\n",
       "        0.08149685,  0.00147069,  0.04796276, -0.04503366, -0.09921749,\n",
       "       -0.028177  ,  0.06450461,  0.04446707, -0.04762174, -0.03529523,\n",
       "        0.04386717, -0.05285659,  0.00043302,  0.10192145,  0.01640721,\n",
       "        0.03269965, -0.03459869,  0.01213397,  0.07948709,  0.00458343,\n",
       "        0.01577782, -0.00968208,  0.02876258, -0.05058062, -0.01557939,\n",
       "       -0.02879062, -0.00962282,  0.03155566,  0.02273487,  0.08714496,\n",
       "       -0.03850279, -0.08847187, -0.008755  , -0.02123434,  0.02089239],\n",
       "      dtype=float32)"
      ]
     },
     "execution_count": 8,
     "metadata": {},
     "output_type": "execute_result"
    }
   ],
   "source": [
    "embeddings[0][:50]"
   ]
  },
  {
   "cell_type": "markdown",
   "metadata": {},
   "source": [
    "## SBERT for Analyzing Semantic Textual Similarity (STS)\n"
   ]
  },
  {
   "cell_type": "markdown",
   "metadata": {},
   "source": [
    "We can calculate the similarity scores of the computed embeddings using e.g. cosine similarity to analyze the semantic relationship between sentences.\n"
   ]
  },
  {
   "cell_type": "code",
   "execution_count": 9,
   "metadata": {},
   "outputs": [],
   "source": [
    "sentences = ['The cat sits outside',\n",
    "             'A man is playing guitar',\n",
    "             'I love pasta',\n",
    "             'The new movie is awesome',\n",
    "             'The cat plays in the garden',\n",
    "             'A woman watches TV',\n",
    "             'The new movie is so great',\n",
    "             'Do you like pizza?']\n",
    "\n",
    "embeddings = model.encode(sentences, convert_to_numpy=True) "
   ]
  },
  {
   "cell_type": "markdown",
   "metadata": {},
   "source": [
    "Let's define a function for calculating the cosine similarity score.\n"
   ]
  },
  {
   "cell_type": "markdown",
   "metadata": {},
   "source": [
    "$$ similarity = \\frac{A \\cdot B}{||A|| \\cdot ||B||} $$\n"
   ]
  },
  {
   "cell_type": "code",
   "execution_count": 8,
   "metadata": {},
   "outputs": [],
   "source": [
    "def cosine_similarity(a, b):\n",
    "    \n",
    "    score = np.dot(a, b) / (norm(a) * norm(b))\n",
    "    \n",
    "    return score"
   ]
  },
  {
   "cell_type": "markdown",
   "metadata": {},
   "source": [
    "The `cosine_similarity` score between \"The cat sits outside\" and \"A man is playing guitar\" should be low:\n"
   ]
  },
  {
   "cell_type": "code",
   "execution_count": 11,
   "metadata": {},
   "outputs": [
    {
     "data": {
      "text/plain": [
       "0.03633046"
      ]
     },
     "execution_count": 11,
     "metadata": {},
     "output_type": "execute_result"
    }
   ],
   "source": [
    "cosine_similarity(embeddings[0], embeddings[1])"
   ]
  },
  {
   "cell_type": "markdown",
   "metadata": {},
   "source": [
    "The `cosine_similarity` score between \"The new movie is awesome\" and \"The new movie is so great\" should be very high:\n"
   ]
  },
  {
   "cell_type": "code",
   "execution_count": 12,
   "metadata": {},
   "outputs": [
    {
     "data": {
      "text/plain": [
       "0.89390373"
      ]
     },
     "execution_count": 12,
     "metadata": {},
     "output_type": "execute_result"
    }
   ],
   "source": [
    "cosine_similarity(embeddings[3], embeddings[6])"
   ]
  },
  {
   "cell_type": "markdown",
   "metadata": {},
   "source": [
    "We can use the utility function `cos_sim` to calculate cosine similarity scores for all sentence pairs in `sentences`. Since we have 8 sentence embeddings, the function will return a $8 \\times 8$ matrix of the scores.\n"
   ]
  },
  {
   "cell_type": "code",
   "execution_count": 13,
   "metadata": {},
   "outputs": [
    {
     "data": {
      "text/plain": [
       "torch.Size([8, 8])"
      ]
     },
     "execution_count": 13,
     "metadata": {},
     "output_type": "execute_result"
    }
   ],
   "source": [
    "cosine_scores = util.cos_sim(embeddings, embeddings)\n",
    "cosine_scores.shape"
   ]
  },
  {
   "cell_type": "markdown",
   "metadata": {},
   "source": [
    "Let's create a list of the cosine scores of the unique sentence pairs. n sentence embeddings should generate $n(n-1) / 2$ pairs. Thus, 28 unique pairs in our case.\n"
   ]
  },
  {
   "cell_type": "code",
   "execution_count": 14,
   "metadata": {},
   "outputs": [
    {
     "data": {
      "text/plain": [
       "28"
      ]
     },
     "execution_count": 14,
     "metadata": {},
     "output_type": "execute_result"
    }
   ],
   "source": [
    "pairs = []\n",
    "\n",
    "for i in range(len(cosine_scores)-1): # 0, 1, 2, 3, 4, 5, 6\n",
    "    for j in range(i+1, len(cosine_scores)): # 1-7, 2-7, 3-7, 4-7, 5-7, 6-7, 7\n",
    "        pairs.append({'index': [i,j], 'score': cosine_scores[i][j]})\n",
    "        \n",
    "len(pairs)"
   ]
  },
  {
   "cell_type": "markdown",
   "metadata": {},
   "source": [
    "We sort the scores in descending order and print 3 sentence pairs with the highest cosine similarity scores.\n"
   ]
  },
  {
   "cell_type": "code",
   "execution_count": 15,
   "metadata": {},
   "outputs": [
    {
     "name": "stdout",
     "output_type": "stream",
     "text": [
      "The new movie is awesome | The new movie is so great \n",
      " Score: 0.89 \n",
      "\n",
      "The cat sits outside | The cat plays in the garden \n",
      " Score: 0.68 \n",
      "\n",
      "I love pasta | Do you like pizza? \n",
      " Score: 0.51 \n",
      "\n"
     ]
    }
   ],
   "source": [
    "sorted_pairs = sorted(pairs, key=lambda x: x['score'], reverse=True)\n",
    "\n",
    "for pair in sorted_pairs[0:3]:\n",
    "    i, j = pair['index']\n",
    "    print(f\"{sentences[i]} | {sentences[j]} \\n Score: {pair['score']:.2f} \\n\")"
   ]
  },
  {
   "cell_type": "markdown",
   "metadata": {},
   "source": [
    "We can also visualize the distance between the sentences on a 2-dimensional plot. Let's apply PCA to reduce the dimensionality of the sentence embeddings.\n"
   ]
  },
  {
   "cell_type": "code",
   "execution_count": 16,
   "metadata": {},
   "outputs": [],
   "source": [
    "pca = PCA(n_components=2)\n",
    "embeddings_reduced = pca.fit_transform(embeddings)"
   ]
  },
  {
   "cell_type": "markdown",
   "metadata": {},
   "source": [
    "By examining the plot below, we see that for the sentences that are semantically close to each other, they appear closely on the plot as well. \n",
    "For example 'The cat sits outside','The cat plays in the garden' are near and 'I love pasta'  and   'Do you like pizza?' make up a cluster.\n"
   ]
  },
  {
   "cell_type": "code",
   "execution_count": 17,
   "metadata": {},
   "outputs": [
    {
     "data": {
      "image/png": "[encoded data removed]",
      "text/plain": [
       "<Figure size 640x480 with 1 Axes>"
      ]
     },
     "metadata": {},
     "output_type": "display_data"
    }
   ],
   "source": [
    "for coord, sentence in zip(embeddings_reduced, sentences):\n",
    "\n",
    "    plt.scatter(coord[0], coord[1])\n",
    "    plt.annotate(sentence, (coord[0], coord[1]))"
   ]
  },
  {
   "cell_type": "markdown",
   "metadata": {},
   "source": [
    "## Use Case of SBERT Embeddings - Perfume Recommendation\n"
   ]
  },
  {
   "cell_type": "markdown",
   "metadata": {},
   "source": [
    "In this section, we will apply SBERT on a [perfume dataset](https://www.kaggle.com/datasets/nandini1999/perfume-recommendation-dataset?utm_medium=Exinfluencer&utm_source=Exinfluencer&utm_content=000026UJ&utm_term=10006555&utm_id=NA-SkillsNetwork-Channel-SkillsNetworkGuidedProjectsIBMGPXX068IEN1371-2022-01-01) from Kaggle that contains the descriptions and notes of more than 2000 different types of perfumes. Since the notes of the perfumes are presented in natural language, SBERT will help us translate that into sentence embeddings which can be numerically manipulated.\n"
   ]
  },
  {
   "cell_type": "markdown",
   "metadata": {},
   "source": [
    "### Preparing the Dataset\n"
   ]
  },
  {
   "cell_type": "markdown",
   "metadata": {},
   "source": [
    "Let's download the perfume dataset.\n"
   ]
  },
  {
   "cell_type": "code",
   "execution_count": 5,
   "metadata": {},
   "outputs": [
    {
     "data": {
      "application/vnd.jupyter.widget-view+json": {
       "model_id": "cec18391cf5441b6ab034d6370be9743",
       "version_major": 2,
       "version_minor": 0
      },
      "text/plain": [
       "Downloading perfume_data.tgz:   0%|          | 0/820425 [00:00<?, ?it/s]"
      ]
     },
     "metadata": {},
     "output_type": "display_data"
    },
    {
     "data": {
      "application/vnd.jupyter.widget-view+json": {
       "model_id": "d3f8cb3dc810498daa68d28b4acbb1d2",
       "version_major": 2,
       "version_minor": 0
      },
      "text/plain": [
       "  0%|          | 0/2 [00:00<?, ?it/s]"
      ]
     },
     "metadata": {},
     "output_type": "display_data"
    },
    {
     "name": "stdout",
     "output_type": "stream",
     "text": [
      "Saved to '.'\n"
     ]
    }
   ],
   "source": [
    "await skillsnetwork.prepare(\"https://cf-courses-data.s3.us.cloud-object-storage.appdomain.cloud/IBM-GPXX068IEN/data/perfume_data.tgz\", overwrite=True)"
   ]
  },
  {
   "cell_type": "code",
   "execution_count": 6,
   "metadata": {},
   "outputs": [
    {
     "data": {
      "text/html": [
       "<div>\n",
       "<style scoped>\n",
       "    .dataframe tbody tr th:only-of-type {\n",
       "        vertical-align: middle;\n",
       "    }\n",
       "\n",
       "    .dataframe tbody tr th {\n",
       "        vertical-align: top;\n",
       "    }\n",
       "\n",
       "    .dataframe thead th {\n",
       "        text-align: right;\n",
       "    }\n",
       "</style>\n",
       "<table border=\"1\" class=\"dataframe\">\n",
       "  <thead>\n",
       "    <tr style=\"text-align: right;\">\n",
       "      <th></th>\n",
       "      <th>ï»¿Name</th>\n",
       "      <th>Brand</th>\n",
       "      <th>Description</th>\n",
       "      <th>Notes</th>\n",
       "      <th>Image URL</th>\n",
       "    </tr>\n",
       "  </thead>\n",
       "  <tbody>\n",
       "    <tr>\n",
       "      <th>0</th>\n",
       "      <td>A Blvd. Called Sunset Eau de Parfum</td>\n",
       "      <td>A Lab on Fire</td>\n",
       "      <td>There's no way A Lab On Fire could relocate t...</td>\n",
       "      <td>Bergamot, almond, violet, jasmine, leather, s...</td>\n",
       "      <td>https://static.luckyscent.com/images/products/...</td>\n",
       "    </tr>\n",
       "    <tr>\n",
       "      <th>1</th>\n",
       "      <td>Almost Transparent Blue Eau de Toilette</td>\n",
       "      <td>A Lab on Fire</td>\n",
       "      <td>Almost Transparent Blue takes the classic ele...</td>\n",
       "      <td>Lime, yuzu, thyme flower, aldehyde, hinoki, c...</td>\n",
       "      <td>https://static.luckyscent.com/images/products/...</td>\n",
       "    </tr>\n",
       "    <tr>\n",
       "      <th>2</th>\n",
       "      <td>And The World Is Yours Extrait de Parfum</td>\n",
       "      <td>A Lab on Fire</td>\n",
       "      <td>Few photographs capture the sumptuousness of ...</td>\n",
       "      <td>Neroli, cumin, orange blossom absolute, rose,...</td>\n",
       "      <td>https://static.luckyscent.com/images/products/...</td>\n",
       "    </tr>\n",
       "    <tr>\n",
       "      <th>3</th>\n",
       "      <td>California Snow Eau de Parfum</td>\n",
       "      <td>A Lab on Fire</td>\n",
       "      <td>California Snow crackles with the electricity...</td>\n",
       "      <td>Sage, tea, chamomile, coumarin, narcissus, ro...</td>\n",
       "      <td>https://static.luckyscent.com/images/products/...</td>\n",
       "    </tr>\n",
       "    <tr>\n",
       "      <th>4</th>\n",
       "      <td>Freckled and Beautiful Eau de Parfum</td>\n",
       "      <td>A Lab on Fire</td>\n",
       "      <td>There's no beauty quite like being young in t...</td>\n",
       "      <td>Orange flower, neroli, honeysuckle, warm milk...</td>\n",
       "      <td>https://static.luckyscent.com/images/products/...</td>\n",
       "    </tr>\n",
       "  </tbody>\n",
       "</table>\n",
       "</div>"
      ],
      "text/plain": [
       "                                    ï»¿Name          Brand  \\\n",
       "0       A Blvd. Called Sunset Eau de Parfum  A Lab on Fire   \n",
       "1   Almost Transparent Blue Eau de Toilette  A Lab on Fire   \n",
       "2  And The World Is Yours Extrait de Parfum  A Lab on Fire   \n",
       "3             California Snow Eau de Parfum  A Lab on Fire   \n",
       "4      Freckled and Beautiful Eau de Parfum  A Lab on Fire   \n",
       "\n",
       "                                         Description  \\\n",
       "0   There's no way A Lab On Fire could relocate t...   \n",
       "1   Almost Transparent Blue takes the classic ele...   \n",
       "2   Few photographs capture the sumptuousness of ...   \n",
       "3   California Snow crackles with the electricity...   \n",
       "4   There's no beauty quite like being young in t...   \n",
       "\n",
       "                                               Notes  \\\n",
       "0   Bergamot, almond, violet, jasmine, leather, s...   \n",
       "1   Lime, yuzu, thyme flower, aldehyde, hinoki, c...   \n",
       "2   Neroli, cumin, orange blossom absolute, rose,...   \n",
       "3   Sage, tea, chamomile, coumarin, narcissus, ro...   \n",
       "4   Orange flower, neroli, honeysuckle, warm milk...   \n",
       "\n",
       "                                           Image URL  \n",
       "0  https://static.luckyscent.com/images/products/...  \n",
       "1  https://static.luckyscent.com/images/products/...  \n",
       "2  https://static.luckyscent.com/images/products/...  \n",
       "3  https://static.luckyscent.com/images/products/...  \n",
       "4  https://static.luckyscent.com/images/products/...  "
      ]
     },
     "execution_count": 6,
     "metadata": {},
     "output_type": "execute_result"
    }
   ],
   "source": [
    "df = pd.read_csv(\"./perfume_data.csv\", encoding=\"unicode_escape\")\n",
    "df.head()"
   ]
  },
  {
   "cell_type": "markdown",
   "metadata": {},
   "source": [
    "Let's examine the notes of the perfumes.\n"
   ]
  },
  {
   "cell_type": "code",
   "execution_count": 7,
   "metadata": {},
   "outputs": [
    {
     "data": {
      "text/plain": [
       "[' Bergamot, almond, violet, jasmine, leather, sandalwood, vanilla, tonka',\n",
       " ' Lime, yuzu, thyme flower, aldehyde, hinoki, cedar wood, musk',\n",
       " ' Neroli, cumin, orange blossom absolute, rose, heliotrope, sandalwood, vanilla pod CO2,  tonka absolute, tolu balsam',\n",
       " ' Sage, tea, chamomile, coumarin, narcissus, rose, hay, cannabis, musk, soil tincture, vetiver, cedar',\n",
       " ' Orange flower, neroli, honeysuckle, warm milk, pastry, salicylates, sandalwood, vanilla bean, heliotrope',\n",
       " ' Ambrette, bergamot, pink pepper, violet, orris, iriseine, suede, blonde woods, musks',\n",
       " ' Juniper, mastic, black pepper, sea salt, clary sage, orris root, olibanum, solar accord, ambergris, vetiver, mineral musks, wet woods, ambrox, sea moss',\n",
       " ' Bergamot, lime, saffron, sage, lavender, Hinoki wood, incense, vanilla, musk',\n",
       " ' Safran, magnolia petals, Italian mandarin, jasmine sambac, tuberose, orange flower, cereal accord, orris, natural vanilla bean.',\n",
       " ' Bergamot, peach blossom, rose, heliotrope, musk, toffee, amber, white woods, vanilla, tonka bean']"
      ]
     },
     "execution_count": 7,
     "metadata": {},
     "output_type": "execute_result"
    }
   ],
   "source": [
    "list(df.Notes[0:10])"
   ]
  },
  {
   "cell_type": "markdown",
   "metadata": {},
   "source": [
    "We want the text embeddings to be generated based on the **Notes** column. Thus, we remove redundant columns and organize the data frame.\n"
   ]
  },
  {
   "cell_type": "code",
   "execution_count": 8,
   "metadata": {},
   "outputs": [
    {
     "data": {
      "text/html": [
       "<div>\n",
       "<style scoped>\n",
       "    .dataframe tbody tr th:only-of-type {\n",
       "        vertical-align: middle;\n",
       "    }\n",
       "\n",
       "    .dataframe tbody tr th {\n",
       "        vertical-align: top;\n",
       "    }\n",
       "\n",
       "    .dataframe thead th {\n",
       "        text-align: right;\n",
       "    }\n",
       "</style>\n",
       "<table border=\"1\" class=\"dataframe\">\n",
       "  <thead>\n",
       "    <tr style=\"text-align: right;\">\n",
       "      <th></th>\n",
       "      <th>Name</th>\n",
       "      <th>Notes</th>\n",
       "    </tr>\n",
       "  </thead>\n",
       "  <tbody>\n",
       "    <tr>\n",
       "      <th>0</th>\n",
       "      <td>A Lab on Fire - A Blvd. Called Sunset Eau de P...</td>\n",
       "      <td>Bergamot, almond, violet, jasmine, leather, s...</td>\n",
       "    </tr>\n",
       "    <tr>\n",
       "      <th>1</th>\n",
       "      <td>A Lab on Fire - Almost Transparent Blue Eau de...</td>\n",
       "      <td>Lime, yuzu, thyme flower, aldehyde, hinoki, c...</td>\n",
       "    </tr>\n",
       "    <tr>\n",
       "      <th>2</th>\n",
       "      <td>A Lab on Fire - And The World Is Yours Extrait...</td>\n",
       "      <td>Neroli, cumin, orange blossom absolute, rose,...</td>\n",
       "    </tr>\n",
       "    <tr>\n",
       "      <th>3</th>\n",
       "      <td>A Lab on Fire - California Snow Eau de Parfum</td>\n",
       "      <td>Sage, tea, chamomile, coumarin, narcissus, ro...</td>\n",
       "    </tr>\n",
       "    <tr>\n",
       "      <th>4</th>\n",
       "      <td>A Lab on Fire - Freckled and Beautiful Eau de ...</td>\n",
       "      <td>Orange flower, neroli, honeysuckle, warm milk...</td>\n",
       "    </tr>\n",
       "  </tbody>\n",
       "</table>\n",
       "</div>"
      ],
      "text/plain": [
       "                                                Name  \\\n",
       "0  A Lab on Fire - A Blvd. Called Sunset Eau de P...   \n",
       "1  A Lab on Fire - Almost Transparent Blue Eau de...   \n",
       "2  A Lab on Fire - And The World Is Yours Extrait...   \n",
       "3      A Lab on Fire - California Snow Eau de Parfum   \n",
       "4  A Lab on Fire - Freckled and Beautiful Eau de ...   \n",
       "\n",
       "                                               Notes  \n",
       "0   Bergamot, almond, violet, jasmine, leather, s...  \n",
       "1   Lime, yuzu, thyme flower, aldehyde, hinoki, c...  \n",
       "2   Neroli, cumin, orange blossom absolute, rose,...  \n",
       "3   Sage, tea, chamomile, coumarin, narcissus, ro...  \n",
       "4   Orange flower, neroli, honeysuckle, warm milk...  "
      ]
     },
     "execution_count": 8,
     "metadata": {},
     "output_type": "execute_result"
    }
   ],
   "source": [
    "df.rename(columns={\"ï»¿Name\": \"Name\"}, inplace=True)\n",
    "df['Name'] = df['Brand'] + \" - \" + df['Name']\n",
    "df.drop(labels=['Description', 'Image URL', 'Brand'], axis=1, inplace=True)\n",
    "df.head()"
   ]
  },
  {
   "cell_type": "markdown",
   "metadata": {},
   "source": [
    "Check for missing values.\n"
   ]
  },
  {
   "cell_type": "code",
   "execution_count": 9,
   "metadata": {},
   "outputs": [
    {
     "data": {
      "text/plain": [
       "79"
      ]
     },
     "execution_count": 9,
     "metadata": {},
     "output_type": "execute_result"
    }
   ],
   "source": [
    "df.Notes.isnull().sum()"
   ]
  },
  {
   "cell_type": "markdown",
   "metadata": {},
   "source": [
    "Drop the rows with missing values and reset the indices.\n"
   ]
  },
  {
   "cell_type": "code",
   "execution_count": 10,
   "metadata": {},
   "outputs": [
    {
     "data": {
      "text/plain": [
       "(2097, 2)"
      ]
     },
     "execution_count": 10,
     "metadata": {},
     "output_type": "execute_result"
    }
   ],
   "source": [
    "df.dropna(inplace = True)\n",
    "df.reset_index(inplace=True, drop = True)\n",
    "df.shape"
   ]
  },
  {
   "cell_type": "markdown",
   "metadata": {},
   "source": [
    "We also want to drop other types of fragrances that are not perfumes (e.g. perfume oil, extract, travel spray, hair products, body spray, etc) but might have identical names and similar notes with the perfumes in the dataset.\n"
   ]
  },
  {
   "cell_type": "code",
   "execution_count": 11,
   "metadata": {},
   "outputs": [],
   "source": [
    "words = [\"Perfume Oil\", \"Extrait\", \"Travel\", \"Hair\", \"Body\", \"Hand\", \"Intense\", \"Intensivo\", \"Oil\"] # check for these words in perfume names\n",
    "\n",
    "index_to_drop = []\n",
    "for index, name in enumerate(df.Name):\n",
    "    if any(word.lower() in name.lower() for word in words):\n",
    "        index_to_drop.append(index)"
   ]
  },
  {
   "cell_type": "markdown",
   "metadata": {},
   "source": [
    "After the preprocessing, we now have 1604 perfumes in the data frame.\n"
   ]
  },
  {
   "cell_type": "code",
   "execution_count": 12,
   "metadata": {},
   "outputs": [
    {
     "data": {
      "text/plain": [
       "(1604, 2)"
      ]
     },
     "execution_count": 12,
     "metadata": {},
     "output_type": "execute_result"
    }
   ],
   "source": [
    "df.drop(index_to_drop, axis=0, inplace=True)\n",
    "df.reset_index(inplace=True, drop = True)\n",
    "df.shape"
   ]
  },
  {
   "cell_type": "markdown",
   "metadata": {},
   "source": [
    "### Creating Perfume Notes Embeddings\n"
   ]
  },
  {
   "cell_type": "markdown",
   "metadata": {},
   "source": [
    "Let's start by putting the 1604 perfume notes into a list.\n"
   ]
  },
  {
   "cell_type": "code",
   "execution_count": 13,
   "metadata": {},
   "outputs": [
    {
     "data": {
      "text/plain": [
       "1604"
      ]
     },
     "execution_count": 13,
     "metadata": {},
     "output_type": "execute_result"
    }
   ],
   "source": [
    "df.Notes = df.Notes.apply(lambda x: str(x))\n",
    "notes = df.Notes.to_list()\n",
    "len(notes)"
   ]
  },
  {
   "cell_type": "markdown",
   "metadata": {},
   "source": [
    "We use the `all-MiniLM-L6-v2` pre-trained SBERT model to generate the sentence embeddings of the perfume notes.\n"
   ]
  },
  {
   "cell_type": "code",
   "execution_count": 14,
   "metadata": {},
   "outputs": [
    {
     "data": {
      "application/vnd.jupyter.widget-view+json": {
       "model_id": "9ab49536de83480999d0ec7355bb1992",
       "version_major": 2,
       "version_minor": 0
      },
      "text/plain": [
       "Downloading:   0%|          | 0.00/1.18k [00:00<?, ?B/s]"
      ]
     },
     "metadata": {},
     "output_type": "display_data"
    },
    {
     "data": {
      "application/vnd.jupyter.widget-view+json": {
       "model_id": "a8da960c0ad34acfa368bbb2e9dcde80",
       "version_major": 2,
       "version_minor": 0
      },
      "text/plain": [
       "Downloading:   0%|          | 0.00/190 [00:00<?, ?B/s]"
      ]
     },
     "metadata": {},
     "output_type": "display_data"
    },
    {
     "data": {
      "application/vnd.jupyter.widget-view+json": {
       "model_id": "cfd2f274ddf941c8a4df3639b9b4c38b",
       "version_major": 2,
       "version_minor": 0
      },
      "text/plain": [
       "Downloading:   0%|          | 0.00/10.6k [00:00<?, ?B/s]"
      ]
     },
     "metadata": {},
     "output_type": "display_data"
    },
    {
     "data": {
      "application/vnd.jupyter.widget-view+json": {
       "model_id": "e05332572fb640ceb8bb2e11eaad6d04",
       "version_major": 2,
       "version_minor": 0
      },
      "text/plain": [
       "Downloading:   0%|          | 0.00/612 [00:00<?, ?B/s]"
      ]
     },
     "metadata": {},
     "output_type": "display_data"
    },
    {
     "data": {
      "application/vnd.jupyter.widget-view+json": {
       "model_id": "0929a73091884f29b847cd4ab6e687ea",
       "version_major": 2,
       "version_minor": 0
      },
      "text/plain": [
       "Downloading:   0%|          | 0.00/116 [00:00<?, ?B/s]"
      ]
     },
     "metadata": {},
     "output_type": "display_data"
    },
    {
     "data": {
      "application/vnd.jupyter.widget-view+json": {
       "model_id": "5e6a495644d34ea79868ece539a3ed31",
       "version_major": 2,
       "version_minor": 0
      },
      "text/plain": [
       "Downloading:   0%|          | 0.00/39.3k [00:00<?, ?B/s]"
      ]
     },
     "metadata": {},
     "output_type": "display_data"
    },
    {
     "data": {
      "application/vnd.jupyter.widget-view+json": {
       "model_id": "fc73fc9768ad49d5a7faebf0b390c7fe",
       "version_major": 2,
       "version_minor": 0
      },
      "text/plain": [
       "Downloading:   0%|          | 0.00/90.9M [00:00<?, ?B/s]"
      ]
     },
     "metadata": {},
     "output_type": "display_data"
    },
    {
     "data": {
      "application/vnd.jupyter.widget-view+json": {
       "model_id": "34bba8e11c90490d92d4b04f7f82f613",
       "version_major": 2,
       "version_minor": 0
      },
      "text/plain": [
       "Downloading:   0%|          | 0.00/53.0 [00:00<?, ?B/s]"
      ]
     },
     "metadata": {},
     "output_type": "display_data"
    },
    {
     "data": {
      "application/vnd.jupyter.widget-view+json": {
       "model_id": "c018b1afe74a48a8b07c4a3e034692fe",
       "version_major": 2,
       "version_minor": 0
      },
      "text/plain": [
       "Downloading:   0%|          | 0.00/112 [00:00<?, ?B/s]"
      ]
     },
     "metadata": {},
     "output_type": "display_data"
    },
    {
     "data": {
      "application/vnd.jupyter.widget-view+json": {
       "model_id": "a76d73065a6d431c98e5ba9364039638",
       "version_major": 2,
       "version_minor": 0
      },
      "text/plain": [
       "Downloading:   0%|          | 0.00/466k [00:00<?, ?B/s]"
      ]
     },
     "metadata": {},
     "output_type": "display_data"
    },
    {
     "data": {
      "application/vnd.jupyter.widget-view+json": {
       "model_id": "4da396ce22934edf955b840ec0b6232f",
       "version_major": 2,
       "version_minor": 0
      },
      "text/plain": [
       "Downloading:   0%|          | 0.00/350 [00:00<?, ?B/s]"
      ]
     },
     "metadata": {},
     "output_type": "display_data"
    },
    {
     "data": {
      "application/vnd.jupyter.widget-view+json": {
       "model_id": "b04f59f0366d4b8bbe50cfb8bde83eee",
       "version_major": 2,
       "version_minor": 0
      },
      "text/plain": [
       "Downloading:   0%|          | 0.00/13.2k [00:00<?, ?B/s]"
      ]
     },
     "metadata": {},
     "output_type": "display_data"
    },
    {
     "data": {
      "application/vnd.jupyter.widget-view+json": {
       "model_id": "bdf34267f8c94453be540fd7b01ca0be",
       "version_major": 2,
       "version_minor": 0
      },
      "text/plain": [
       "Downloading:   0%|          | 0.00/232k [00:00<?, ?B/s]"
      ]
     },
     "metadata": {},
     "output_type": "display_data"
    },
    {
     "data": {
      "application/vnd.jupyter.widget-view+json": {
       "model_id": "216740194bc14e588569facc1429bb37",
       "version_major": 2,
       "version_minor": 0
      },
      "text/plain": [
       "Downloading:   0%|          | 0.00/349 [00:00<?, ?B/s]"
      ]
     },
     "metadata": {},
     "output_type": "display_data"
    },
    {
     "data": {
      "application/vnd.jupyter.widget-view+json": {
       "model_id": "0986ed451c684d98bbb3c35c82ceee70",
       "version_major": 2,
       "version_minor": 0
      },
      "text/plain": [
       "Batches:   0%|          | 0/26 [00:00<?, ?it/s]"
      ]
     },
     "metadata": {},
     "output_type": "display_data"
    }
   ],
   "source": [
    "model = SentenceTransformer('all-MiniLM-L6-v2')\n",
    "\n",
    "note_embeddings = model.encode(notes, show_progress_bar=True, batch_size=64)"
   ]
  },
  {
   "cell_type": "markdown",
   "metadata": {},
   "source": [
    "We check that each generated note embedding has length 384.\n"
   ]
  },
  {
   "cell_type": "code",
   "execution_count": 15,
   "metadata": {},
   "outputs": [
    {
     "name": "stdout",
     "output_type": "stream",
     "text": [
      "(1604, 384)\n",
      "[-0.00536172 -0.08962227  0.03425576  0.07611441  0.04399082  0.09172305\n",
      "  0.03116251 -0.05357346  0.01305527 -0.03158853  0.08101199 -0.05667504\n",
      " -0.027444   -0.07322732  0.03848423  0.05993796  0.11013887  0.0256933\n",
      " -0.03124174  0.00807241  0.01832664 -0.00012893  0.00550093  0.02377412\n",
      "  0.01978638  0.02632321  0.02199204 -0.00831317  0.00776818 -0.1247071\n",
      "  0.03724482 -0.00188028  0.06668036  0.01159845 -0.0561904   0.0182688\n",
      " -0.070104   -0.11917053  0.0631799   0.06150823 -0.01092714  0.00840747\n",
      " -0.00403326 -0.02480974 -0.01124481 -0.0303256   0.03361209  0.00046363\n",
      " -0.00190012  0.0766108 ]\n"
     ]
    }
   ],
   "source": [
    "print(note_embeddings.shape)\n",
    "\n",
    "print(note_embeddings[0][:50]) # first 50 values in the embedding of \"Vanilla bean, musks\""
   ]
  },
  {
   "cell_type": "markdown",
   "metadata": {},
   "source": [
    "### Recommending Perfumes using Cosine Similarity\n"
   ]
  },
  {
   "cell_type": "markdown",
   "metadata": {},
   "source": [
    "We calculate the cosine similarity scores for all the pairs of perfume note embeddings.\n"
   ]
  },
  {
   "cell_type": "code",
   "execution_count": 22,
   "metadata": {},
   "outputs": [
    {
     "data": {
      "text/plain": [
       "torch.Size([1604, 1604])"
      ]
     },
     "execution_count": 22,
     "metadata": {},
     "output_type": "execute_result"
    }
   ],
   "source": [
    "cosine_scores = util.cos_sim(note_embeddings, note_embeddings)\n",
    "cosine_scores.shape"
   ]
  },
  {
   "cell_type": "markdown",
   "metadata": {},
   "source": [
    "Sorting the scores in descending order and appending the (index, score) pair to `pairs`.\n"
   ]
  },
  {
   "cell_type": "code",
   "execution_count": 23,
   "metadata": {},
   "outputs": [
    {
     "data": {
      "text/plain": [
       "1285606"
      ]
     },
     "execution_count": 23,
     "metadata": {},
     "output_type": "execute_result"
    }
   ],
   "source": [
    "pairs = []\n",
    "\n",
    "for i in range(len(cosine_scores)-1):\n",
    "    for j in range(i+1, len(cosine_scores)):\n",
    "        pairs.append({\"index\": [i,j], \"score\": cosine_scores[i][j]})\n",
    "\n",
    "len(pairs)"
   ]
  },
  {
   "cell_type": "markdown",
   "metadata": {},
   "source": [
    "As we have more than 1000 perfumes in the dataset, the number of unique pairs of note embeddings is more than 1M. Next, we sort the pairs based on their corresponding similarity scores, and we print out 10 pairs with the highest scores as the most similar perfumes in the dataset.\n"
   ]
  },
  {
   "cell_type": "code",
   "execution_count": 24,
   "metadata": {},
   "outputs": [
    {
     "name": "stdout",
     "output_type": "stream",
     "text": [
      "Comme des Garcons - 2 Eau de Parfum | Comme des Garcons - 2 Candle \n",
      " Score: 1.00 \n",
      "\n",
      "Roja Parfums - Elysium Parfum Cologne | Roja Parfums - Vetiver Parfum Cologne \n",
      " Score: 1.00 \n",
      "\n",
      "Ormonde Jayne - Ormonde Elixir Parfum | Ormonde Jayne - Ormonde Woman Eau de Parfum \n",
      " Score: 0.98 \n",
      "\n",
      "PARFUMS DE NICOLAI - Incense Oud Eau de Parfum | PARFUMS DE NICOLAI - Oud Sublime Elixir de Parfum \n",
      " Score: 0.97 \n",
      "\n",
      "J-Scent - Hisui (Jade) Eau de Parfum | J-Scent - Shaft of Light Eau de Parfum \n",
      " Score: 0.95 \n",
      "\n",
      "Roja Parfums - Danger Parfum Cologne | Roja Parfums - Scandal Parfum Cologne \n",
      " Score: 0.94 \n",
      "\n",
      "Xerjoff - Oud Stars - Alexandria II Eau de Parfum | Xerjoff - Oud Stars - Alexandria III Parfum \n",
      " Score: 0.94 \n",
      "\n",
      "Charenton Macerations - Asphalt Rainbow Eau de Parfum | Charenton Macerations - Asphalt Rainbow Scratch & Sniff Sticker Set \n",
      " Score: 0.94 \n",
      "\n",
      "Ormonde Jayne - Ambre Royal Eau de Parfum | Ormonde Jayne - Royal Elixir Parfum \n",
      " Score: 0.94 \n",
      "\n",
      "Les Bains Guerbois - 2015 Le Phenix Eau de Parfum | Les Bains Guerbois - Eau de Cologne \n",
      " Score: 0.93 \n",
      "\n"
     ]
    }
   ],
   "source": [
    "sorted_pairs = sorted(pairs, key=lambda x: x['score'], reverse=True)\n",
    "\n",
    "for pair in sorted_pairs[0:10]:\n",
    "    i, j = pair['index']\n",
    "    print(f\"{df.iloc[i, 0]} | {df.iloc[j, 0]} \\n Score: {pair['score']:.2f} \\n\")"
   ]
  },
  {
   "cell_type": "markdown",
   "metadata": {},
   "source": [
    "## Exercise: Getting Your Own Perfume Suggestions\n"
   ]
  },
  {
   "cell_type": "markdown",
   "metadata": {},
   "source": [
    "Do you want to get recommendations for the perfume(s) you like or own? Add their names and notes (you can search it up [here](https://www.fragrantica.com/notes/?utm_medium=Exinfluencer&utm_source=Exinfluencer&utm_content=000026UJ&utm_term=10006555&utm_id=NA-SkillsNetwork-Channel-SkillsNetworkGuidedProjectsIBMGPXX068IEN1371-2022-01-01)) to the `my_perfumes` dataframe!\n"
   ]
  },
  {
   "cell_type": "code",
   "execution_count": 16,
   "metadata": {},
   "outputs": [
    {
     "data": {
      "text/html": [
       "<div>\n",
       "<style scoped>\n",
       "    .dataframe tbody tr th:only-of-type {\n",
       "        vertical-align: middle;\n",
       "    }\n",
       "\n",
       "    .dataframe tbody tr th {\n",
       "        vertical-align: top;\n",
       "    }\n",
       "\n",
       "    .dataframe thead th {\n",
       "        text-align: right;\n",
       "    }\n",
       "</style>\n",
       "<table border=\"1\" class=\"dataframe\">\n",
       "  <thead>\n",
       "    <tr style=\"text-align: right;\">\n",
       "      <th></th>\n",
       "      <th>Name</th>\n",
       "      <th>Notes</th>\n",
       "    </tr>\n",
       "  </thead>\n",
       "  <tbody>\n",
       "    <tr>\n",
       "      <th>0</th>\n",
       "      <td>Jo Malone - English Pear &amp; Freesia</td>\n",
       "      <td>Pear, Melon, Freesia, Rose, Musk, Patchouli, R...</td>\n",
       "    </tr>\n",
       "    <tr>\n",
       "      <th>1</th>\n",
       "      <td>Jo Malone - Myrrh &amp; Tonka</td>\n",
       "      <td>Lavender, Myrrh, Tonka Bean, Vanilla, Almond</td>\n",
       "    </tr>\n",
       "    <tr>\n",
       "      <th>2</th>\n",
       "      <td>Jo Malone - Oud &amp; Bergamot</td>\n",
       "      <td>orange, bergamot, lemon, cedar and oud.</td>\n",
       "    </tr>\n",
       "    <tr>\n",
       "      <th>3</th>\n",
       "      <td>Guerlain - Néroli Outrenoir</td>\n",
       "      <td>Petitgrain, Bergamot, Tangerine, Lemon, Grapef...</td>\n",
       "    </tr>\n",
       "    <tr>\n",
       "      <th>4</th>\n",
       "      <td>Guerlain - Épices Volées</td>\n",
       "      <td>Coriander, Lemon, Artemisia, Bergamot, Clove, ...</td>\n",
       "    </tr>\n",
       "    <tr>\n",
       "      <th>5</th>\n",
       "      <td>Guerlain - Aqua Allegoria Nerolia Vetiver Eau ...</td>\n",
       "      <td>Basil, Vetiver, Fig Accord, Neroli</td>\n",
       "    </tr>\n",
       "    <tr>\n",
       "      <th>6</th>\n",
       "      <td>Chloe Eau de Parfum</td>\n",
       "      <td>Peony, Litchi, Freesia, Rose, Lily-of-the-Vall...</td>\n",
       "    </tr>\n",
       "  </tbody>\n",
       "</table>\n",
       "</div>"
      ],
      "text/plain": [
       "                                                Name  \\\n",
       "0                 Jo Malone - English Pear & Freesia   \n",
       "1                          Jo Malone - Myrrh & Tonka   \n",
       "2                         Jo Malone - Oud & Bergamot   \n",
       "3                        Guerlain - Néroli Outrenoir   \n",
       "4                           Guerlain - Épices Volées   \n",
       "5  Guerlain - Aqua Allegoria Nerolia Vetiver Eau ...   \n",
       "6                                Chloe Eau de Parfum   \n",
       "\n",
       "                                               Notes  \n",
       "0  Pear, Melon, Freesia, Rose, Musk, Patchouli, R...  \n",
       "1       Lavender, Myrrh, Tonka Bean, Vanilla, Almond  \n",
       "2            orange, bergamot, lemon, cedar and oud.  \n",
       "3  Petitgrain, Bergamot, Tangerine, Lemon, Grapef...  \n",
       "4  Coriander, Lemon, Artemisia, Bergamot, Clove, ...  \n",
       "5                 Basil, Vetiver, Fig Accord, Neroli  \n",
       "6  Peony, Litchi, Freesia, Rose, Lily-of-the-Vall...  "
      ]
     },
     "execution_count": 16,
     "metadata": {},
     "output_type": "execute_result"
    }
   ],
   "source": [
    "my_perfumes = pd.DataFrame([['Jo Malone - English Pear & Freesia', 'Pear, Melon, Freesia, Rose, Musk, Patchouli, Rhuburb, Amber'], \n",
    "                      ['Jo Malone - Myrrh & Tonka', 'Lavender, Myrrh, Tonka Bean, Vanilla, Almond'],\n",
    "                      ['Jo Malone - Oud & Bergamot', 'orange, bergamot, lemon, cedar and oud.'],\n",
    "                      ['Guerlain - Néroli Outrenoir', 'Petitgrain, Bergamot, Tangerine, Lemon, Grapefruit, Tea, Neroli, Orange Blossom, Smoke, Earthy Notes, Myrrh, Vanilla, Benzoin, Ambrette, Oakmoss.'],\n",
    "                      ['Guerlain - Épices Volées', 'Coriander, Lemon, Artemisia, Bergamot, Clove, Cardamom, Sage, Bulgarian Rose, Sandalwood, Patchouli, Benzoin, Labdanum.'],\n",
    "                      ['Guerlain - Aqua Allegoria Nerolia Vetiver Eau de Toilette', 'Basil, Vetiver, Fig Accord, Neroli'],\n",
    "                      ['Chloe Eau de Parfum', 'Peony, Litchi, Freesia, Rose, Lily-of-the-Valley, Magnolia, Virginia Cedar, Amber.']                     \n",
    "                     ],\n",
    "                   columns=df.columns)\n",
    "\n",
    "my_perfumes"
   ]
  },
  {
   "cell_type": "markdown",
   "metadata": {},
   "source": [
    "### Exercise 1: Create perfume embeddings\n",
    "\n",
    "Create perfume embeddings for `my_perfumes` using the `all-MiniLM-L6-v2` model from `sentence-transformer`. Call it `my_embeddings`.\n"
   ]
  },
  {
   "cell_type": "code",
   "execution_count": 17,
   "metadata": {},
   "outputs": [
    {
     "data": {
      "application/vnd.jupyter.widget-view+json": {
       "model_id": "a0638d033c654438bcbb67a24c925771",
       "version_major": 2,
       "version_minor": 0
      },
      "text/plain": [
       "Batches:   0%|          | 0/1 [00:00<?, ?it/s]"
      ]
     },
     "metadata": {},
     "output_type": "display_data"
    }
   ],
   "source": [
    "# your code here\n",
    "notes = list(my_perfumes.Notes)\n",
    "model = SentenceTransformer('all-MiniLM-L6-v2')\n",
    "my_embeddings = model.encode(notes,show_progress_bar=True)"
   ]
  },
  {
   "cell_type": "markdown",
   "metadata": {},
   "source": [
    "<details><summary>Click Here for Solution</summary>\n",
    "    \n",
    "```python\n",
    "\n",
    "notes = list(my_perfumes.Notes)\n",
    "\n",
    "model = SentenceTransformer('all-MiniLM-L6-v2')\n",
    "my_embeddings = model.encode(notes, show_progress_bar=True)\n",
    "```\n",
    "</details>\n"
   ]
  },
  {
   "cell_type": "markdown",
   "metadata": {},
   "source": [
    "### Exercise 2: Produce cosine similarity scores\n",
    "\n",
    "Calculate cosine similarity scores between `my_perfumes` and the other 1604 perfumes, i.e: a similarity matrix between `my_embeddings` and `note_embeddings`.\n"
   ]
  },
  {
   "cell_type": "code",
   "execution_count": 18,
   "metadata": {},
   "outputs": [],
   "source": [
    "# your code here\n",
    "cosine_scores = util.cos_sim(my_embeddings, note_embeddings)"
   ]
  },
  {
   "cell_type": "markdown",
   "metadata": {},
   "source": [
    "<details><summary>Click Here for Solution</summary>\n",
    "    \n",
    "```python\n",
    "\n",
    "cosine_scores = util.cos_sim(my_embeddings, note_embeddings)\n",
    "```\n",
    "</details>\n"
   ]
  },
  {
   "cell_type": "markdown",
   "metadata": {},
   "source": [
    "### Exercise 3: Sort the perfume similarity scores\n",
    "\n",
    "Create a list of (index, score) key-value pairs called `my_pairs` and sort `my_pairs` in descending order. Name the sorted list `my_sorted_pairs`.\n"
   ]
  },
  {
   "cell_type": "code",
   "execution_count": 19,
   "metadata": {},
   "outputs": [],
   "source": [
    "# your code here\n",
    "my_pairs = []\n",
    "\n",
    "for i in range(len(cosine_scores)-1):\n",
    "    for j in range(i+1, len(cosine_scores)):\n",
    "        my_pairs.append({\"index\": [i,j], \"score\": cosine_scores[i][j]})\n",
    "        \n",
    "my_sorted_pairs = sorted(my_pairs, key=lambda x: x['score'], reverse=True)  "
   ]
  },
  {
   "cell_type": "markdown",
   "metadata": {},
   "source": [
    "<details><summary>Click Here for Solution</summary>\n",
    "    \n",
    "```python\n",
    "\n",
    "my_pairs=[]\n",
    "\n",
    "for i in range(cosine_scores.shape[0]):\n",
    "    for j in range(cosine_score.shape[1]):\n",
    "        my_pairs.append({\"index\": [i,j], \"score\": cosine_scores[i][j]})\n",
    "        \n",
    "        \n",
    "my_sorted_pairs = sorted(my_pairs, key=lambda x: x['score'], reverse=True)\n",
    "```\n",
    "</details>\n"
   ]
  },
  {
   "cell_type": "markdown",
   "metadata": {},
   "source": [
    "For each of the perfume in `my_perfumes`, let's display the first 5 out of the 1604 perfumes that are most likely to be recommended.\n"
   ]
  },
  {
   "cell_type": "code",
   "execution_count": 20,
   "metadata": {},
   "outputs": [
    {
     "name": "stdout",
     "output_type": "stream",
     "text": [
      "Recommended for Jo Malone - English Pear & Freesia:\n",
      " 1. 1    A Lab on Fire - California Snow Eau de Parfum\n",
      "5        A Lab on Fire - LiquidNight Eau de Parfum\n",
      "Name: Name, dtype: object (Score: 0.72)\n",
      " 2. 1        A Lab on Fire - California Snow Eau de Parfum\n",
      "2    A Lab on Fire - Freckled and Beautiful Eau de ...\n",
      "Name: Name, dtype: object (Score: 0.71)\n",
      " 3. 4       A Lab on Fire - Hossegor Eau de Parfum\n",
      "5    A Lab on Fire - LiquidNight Eau de Parfum\n",
      "Name: Name, dtype: object (Score: 0.70)\n",
      " 4. 3    A Lab on Fire - Hallucinogenic Pearl Eau de Pa...\n",
      "5            A Lab on Fire - LiquidNight Eau de Parfum\n",
      "Name: Name, dtype: object (Score: 0.69)\n",
      " 5. 0    A Lab on Fire - A Blvd. Called Sunset Eau de P...\n",
      "2    A Lab on Fire - Freckled and Beautiful Eau de ...\n",
      "Name: Name, dtype: object (Score: 0.66)\n",
      "\n",
      "\n",
      "Recommended for Jo Malone - Myrrh & Tonka:\n",
      " 1. 1    A Lab on Fire - California Snow Eau de Parfum\n",
      "5        A Lab on Fire - LiquidNight Eau de Parfum\n",
      "Name: Name, dtype: object (Score: 0.72)\n",
      " 2. 1        A Lab on Fire - California Snow Eau de Parfum\n",
      "2    A Lab on Fire - Freckled and Beautiful Eau de ...\n",
      "Name: Name, dtype: object (Score: 0.71)\n",
      " 3. 4       A Lab on Fire - Hossegor Eau de Parfum\n",
      "5    A Lab on Fire - LiquidNight Eau de Parfum\n",
      "Name: Name, dtype: object (Score: 0.70)\n",
      " 4. 3    A Lab on Fire - Hallucinogenic Pearl Eau de Pa...\n",
      "5            A Lab on Fire - LiquidNight Eau de Parfum\n",
      "Name: Name, dtype: object (Score: 0.69)\n",
      " 5. 0    A Lab on Fire - A Blvd. Called Sunset Eau de P...\n",
      "2    A Lab on Fire - Freckled and Beautiful Eau de ...\n",
      "Name: Name, dtype: object (Score: 0.66)\n",
      "\n",
      "\n",
      "Recommended for Jo Malone - Oud & Bergamot:\n",
      " 1. 1    A Lab on Fire - California Snow Eau de Parfum\n",
      "5        A Lab on Fire - LiquidNight Eau de Parfum\n",
      "Name: Name, dtype: object (Score: 0.72)\n",
      " 2. 1        A Lab on Fire - California Snow Eau de Parfum\n",
      "2    A Lab on Fire - Freckled and Beautiful Eau de ...\n",
      "Name: Name, dtype: object (Score: 0.71)\n",
      " 3. 4       A Lab on Fire - Hossegor Eau de Parfum\n",
      "5    A Lab on Fire - LiquidNight Eau de Parfum\n",
      "Name: Name, dtype: object (Score: 0.70)\n",
      " 4. 3    A Lab on Fire - Hallucinogenic Pearl Eau de Pa...\n",
      "5            A Lab on Fire - LiquidNight Eau de Parfum\n",
      "Name: Name, dtype: object (Score: 0.69)\n",
      " 5. 0    A Lab on Fire - A Blvd. Called Sunset Eau de P...\n",
      "2    A Lab on Fire - Freckled and Beautiful Eau de ...\n",
      "Name: Name, dtype: object (Score: 0.66)\n",
      "\n",
      "\n",
      "Recommended for Guerlain - Néroli Outrenoir:\n",
      " 1. 1    A Lab on Fire - California Snow Eau de Parfum\n",
      "5        A Lab on Fire - LiquidNight Eau de Parfum\n",
      "Name: Name, dtype: object (Score: 0.72)\n",
      " 2. 1        A Lab on Fire - California Snow Eau de Parfum\n",
      "2    A Lab on Fire - Freckled and Beautiful Eau de ...\n",
      "Name: Name, dtype: object (Score: 0.71)\n",
      " 3. 4       A Lab on Fire - Hossegor Eau de Parfum\n",
      "5    A Lab on Fire - LiquidNight Eau de Parfum\n",
      "Name: Name, dtype: object (Score: 0.70)\n",
      " 4. 3    A Lab on Fire - Hallucinogenic Pearl Eau de Pa...\n",
      "5            A Lab on Fire - LiquidNight Eau de Parfum\n",
      "Name: Name, dtype: object (Score: 0.69)\n",
      " 5. 0    A Lab on Fire - A Blvd. Called Sunset Eau de P...\n",
      "2    A Lab on Fire - Freckled and Beautiful Eau de ...\n",
      "Name: Name, dtype: object (Score: 0.66)\n",
      "\n",
      "\n",
      "Recommended for Guerlain - Épices Volées:\n",
      " 1. 1    A Lab on Fire - California Snow Eau de Parfum\n",
      "5        A Lab on Fire - LiquidNight Eau de Parfum\n",
      "Name: Name, dtype: object (Score: 0.72)\n",
      " 2. 1        A Lab on Fire - California Snow Eau de Parfum\n",
      "2    A Lab on Fire - Freckled and Beautiful Eau de ...\n",
      "Name: Name, dtype: object (Score: 0.71)\n",
      " 3. 4       A Lab on Fire - Hossegor Eau de Parfum\n",
      "5    A Lab on Fire - LiquidNight Eau de Parfum\n",
      "Name: Name, dtype: object (Score: 0.70)\n",
      " 4. 3    A Lab on Fire - Hallucinogenic Pearl Eau de Pa...\n",
      "5            A Lab on Fire - LiquidNight Eau de Parfum\n",
      "Name: Name, dtype: object (Score: 0.69)\n",
      " 5. 0    A Lab on Fire - A Blvd. Called Sunset Eau de P...\n",
      "2    A Lab on Fire - Freckled and Beautiful Eau de ...\n",
      "Name: Name, dtype: object (Score: 0.66)\n",
      "\n",
      "\n",
      "Recommended for Guerlain - Aqua Allegoria Nerolia Vetiver Eau de Toilette:\n",
      " 1. 1    A Lab on Fire - California Snow Eau de Parfum\n",
      "5        A Lab on Fire - LiquidNight Eau de Parfum\n",
      "Name: Name, dtype: object (Score: 0.72)\n",
      " 2. 1        A Lab on Fire - California Snow Eau de Parfum\n",
      "2    A Lab on Fire - Freckled and Beautiful Eau de ...\n",
      "Name: Name, dtype: object (Score: 0.71)\n",
      " 3. 4       A Lab on Fire - Hossegor Eau de Parfum\n",
      "5    A Lab on Fire - LiquidNight Eau de Parfum\n",
      "Name: Name, dtype: object (Score: 0.70)\n",
      " 4. 3    A Lab on Fire - Hallucinogenic Pearl Eau de Pa...\n",
      "5            A Lab on Fire - LiquidNight Eau de Parfum\n",
      "Name: Name, dtype: object (Score: 0.69)\n",
      " 5. 0    A Lab on Fire - A Blvd. Called Sunset Eau de P...\n",
      "2    A Lab on Fire - Freckled and Beautiful Eau de ...\n",
      "Name: Name, dtype: object (Score: 0.66)\n",
      "\n",
      "\n",
      "Recommended for Chloe Eau de Parfum:\n",
      " 1. 1    A Lab on Fire - California Snow Eau de Parfum\n",
      "5        A Lab on Fire - LiquidNight Eau de Parfum\n",
      "Name: Name, dtype: object (Score: 0.72)\n",
      " 2. 1        A Lab on Fire - California Snow Eau de Parfum\n",
      "2    A Lab on Fire - Freckled and Beautiful Eau de ...\n",
      "Name: Name, dtype: object (Score: 0.71)\n",
      " 3. 4       A Lab on Fire - Hossegor Eau de Parfum\n",
      "5    A Lab on Fire - LiquidNight Eau de Parfum\n",
      "Name: Name, dtype: object (Score: 0.70)\n",
      " 4. 3    A Lab on Fire - Hallucinogenic Pearl Eau de Pa...\n",
      "5            A Lab on Fire - LiquidNight Eau de Parfum\n",
      "Name: Name, dtype: object (Score: 0.69)\n",
      " 5. 0    A Lab on Fire - A Blvd. Called Sunset Eau de P...\n",
      "2    A Lab on Fire - Freckled and Beautiful Eau de ...\n",
      "Name: Name, dtype: object (Score: 0.66)\n",
      "\n",
      "\n"
     ]
    }
   ],
   "source": [
    "for i in range(cosine_scores.shape[0]):\n",
    "\n",
    "    print(f\"Recommended for {my_perfumes.iloc[i, 0]}:\")\n",
    "        \n",
    "    for no, pair in enumerate(my_sorted_pairs[:5]):\n",
    "        print(f\" {no+1}. {df.iloc[pair['index'], 0]} (Score: {pair['score']:.2f})\")\n",
    "    print(\"\\n\")"
   ]
  },
  {
   "cell_type": "markdown",
   "metadata": {},
   "source": [
    "## Background on BERT (optional)\n"
   ]
  },
  {
   "cell_type": "markdown",
   "metadata": {},
   "source": [
    "### What is BERT?\n",
    "\n",
    "BERT, or **Bidirectional Encoder Representations from Transformers**, is a language representation model designed by researchers at Goodle AI Language.\n"
   ]
  },
  {
   "cell_type": "markdown",
   "metadata": {},
   "source": [
    "### What does BERT do?\n",
    "\n",
    "- Unlike other pre-trained models prior to BERT, such as the feature-based model [ELMo](https://arxiv.org/abs/1802.05365?utm_medium=Exinfluencer&utm_source=Exinfluencer&utm_content=000026UJ&utm_term=10006555&utm_id=NA-SkillsNetwork-Channel-SkillsNetworkGuidedProjectsIBMGPXX068IEN1371-2022-01-01) and the fine-tuning model [GPT](https://s3-us-west-2.amazonaws.com/openai-assets/research-covers/language-unsupervised/language_understanding_paper.pdf?utm_medium=Exinfluencer&utm_source=Exinfluencer&utm_content=000026UJ&utm_term=10006555&utm_id=NA-SkillsNetwork-Channel-SkillsNetworkGuidedProjectsIBMGPXX068IEN1371-2022-01-01) that perform unidirectional language representation learning, BERT pre-trains deep **bidirectional** representations from unlabeled text **by jointly conditioning on both left and right context in all layers**. \n",
    "\n",
    "- BERT is the first fine-tuning based representation model that achieves state-of-the-art performance on a large suite of **sentence-level tasks** such as paraphrasing and **token-level tasks** such as Named Entity Recognition **(NER)**, outperforming many task specific architectures.\n",
    "\n",
    "- BERT advances the state of the art for 11 NLP tasks. The code and pre-trained models are available at https://github.com/google-research/bert.\n"
   ]
  },
  {
   "cell_type": "markdown",
   "metadata": {},
   "source": [
    "<center><img src=\"https://cf-courses-data.s3.us.cloud-object-storage.appdomain.cloud/IBM-GPXX068IEN/images/comparison.png\" width=\"70%\"><center>\n",
    "    \n",
    "<p style=\"color:gray; text-align:center;\">Image credits to <a href=\"https://arxiv.org/abs/1810.04805?utm_medium=Exinfluencer&utm_source=Exinfluencer&utm_content=000026UJ&utm_term=10006555&utm_id=NA-SkillsNetwork-Channel-SkillsNetworkGuidedProjectsIBMGPXX068IEN1371-2022-01-01\">Devlin et al.</a></p>\n"
   ]
  },
  {
   "cell_type": "markdown",
   "metadata": {},
   "source": [
    "### How does BERT work?\n",
    "\n",
    "There are 2 steps in BERT framework: **pre-training** and **fine-tuning**. <p style=\"color:blue\">BERT is pre-trained on unlabeled data over two unsupervised tasks.</p>\n",
    "\n",
    " 1. **Masked LM**: Before the sentences are fed into BERT, 15% of the input tokens in each sentence are masked at random with a `[MASK]` token. The model then predicts those masked tokens based on the left-to-right and right-to-left context provided by the other non-masked tokens in the sentence. This allows us to obtain a bidirectional pre-trained model.\n",
    " \n",
    " 2. **Next Sentence Prediction**: During the BERT training process, the model would receive pairs of sentences as input. When choosing the sentences A and B for each training example, 50% of the time B is the actual next sentence of A in the original document and 50% of the time B is a random sentence from the corpus. The model learns to predict whether B is the actual next sentence of A. This alows us to obtain a model that understands the relationship between two sentences. \n",
    "\n",
    "Putting it all together, during the training of the BERT model, Masked LM and Next Sentence prediction are trained together with the goal of minimizing the losses of both strategies.\n"
   ]
  },
  {
   "cell_type": "markdown",
   "metadata": {},
   "source": [
    "<center><img src=\"https://cf-courses-data.s3.us.cloud-object-storage.appdomain.cloud/IBM-GPXX068IEN/images/BERT_input.png\" width=\"75%\"><center>\n",
    "    \n",
    "<p style=\"color:gray; text-align:center;\">Image credits to <a href=\"https://arxiv.org/abs/1810.04805?utm_medium=Exinfluencer&utm_source=Exinfluencer&utm_content=000026UJ&utm_term=10006555&utm_id=NA-SkillsNetwork-Channel-SkillsNetworkGuidedProjectsIBMGPXX068IEN1371-2022-01-01\">Devlin et al.</a></p>\n"
   ]
  },
  {
   "cell_type": "markdown",
   "metadata": {},
   "source": [
    "<p style=\"color:blue\">BERT is fine-tuned using labeled data from the downstream tasks.</p> \n",
    "\n",
    "The self-attention mechanism in the Transformer allows BERT to model many downstream tasks, either involving single text or text pairs. For tasks involving text pairs such as paraphrasing, the **task-specific** sentence pairs mentioned previously, sentence A and sentence B would be fed into BERT as the input for fine-tuning. At the output, the token representations can be passed through an output layer for token-level tasks such as Name Entity Recognition.\n"
   ]
  },
  {
   "cell_type": "markdown",
   "metadata": {},
   "source": [
    "## Congratulations on completing this guided project!\n"
   ]
  },
  {
   "cell_type": "markdown",
   "metadata": {},
   "source": [
    "## Authors\n"
   ]
  },
  {
   "cell_type": "markdown",
   "metadata": {},
   "source": [
    "[Roxanne Li](https://www.linkedin.com/in/roxanne-li/?utm_medium=Exinfluencer&utm_source=Exinfluencer&utm_content=000026UJ&utm_term=10006555&utm_id=NA-SkillsNetwork-Channel-SkillsNetworkGuidedProjectsIBMGPXX068IEN1371-2022-01-01) is a Data Scientist at IBM with extensive theoretical/academic, research, and work experience in different areas of Machine Learning, including Classification, Clustering, Computer Vision, NLP, and Generative AI.\n"
   ]
  },
  {
   "cell_type": "markdown",
   "metadata": {},
   "source": [
    "## Change Log\n"
   ]
  },
  {
   "cell_type": "markdown",
   "metadata": {},
   "source": [
    "|Date (YYYY-MM-DD)|Version|Changed By|Change Description|\n",
    "|-|-|-|-|\n",
    "|2022-11-23|0.1|Roxanne Li|Create guided project|\n"
   ]
  },
  {
   "cell_type": "markdown",
   "metadata": {},
   "source": [
    "Copyright © 2022 IBM Corporation. All rights reserved.\n"
   ]
  }
 ],
 "metadata": {
  "kernelspec": {
   "display_name": "Python",
   "language": "python",
   "name": "conda-env-python-py"
  },
  "language_info": {
   "codemirror_mode": {
    "name": "ipython",
    "version": 3
   },
   "file_extension": ".py",
   "mimetype": "text/x-python",
   "name": "python",
   "nbconvert_exporter": "python",
   "pygments_lexer": "ipython3",
   "version": "3.7.12"
  }
 },
 "nbformat": 4,
 "nbformat_minor": 4
}
